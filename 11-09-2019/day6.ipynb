{
 "cells": [
  {
   "cell_type": "markdown",
   "metadata": {},
   "source": [
    "# 11-09-2019"
   ]
  },
  {
   "cell_type": "markdown",
   "metadata": {},
   "source": [
    "### To print the reverse of a given number"
   ]
  },
  {
   "cell_type": "code",
   "execution_count": 14,
   "metadata": {},
   "outputs": [
    {
     "name": "stdout",
     "output_type": "stream",
     "text": [
      "enter a number 1111111111142\n"
     ]
    },
    {
     "data": {
      "text/plain": [
       "'2411111111111'"
      ]
     },
     "execution_count": 14,
     "metadata": {},
     "output_type": "execute_result"
    }
   ],
   "source": [
    "n=input(\"enter a number \")\n",
    "n[::-1]\n"
   ]
  },
  {
   "cell_type": "markdown",
   "metadata": {},
   "source": [
    "### Typecasting"
   ]
  },
  {
   "cell_type": "code",
   "execution_count": 15,
   "metadata": {},
   "outputs": [
    {
     "name": "stdout",
     "output_type": "stream",
     "text": [
      "enter a number 11413\n"
     ]
    },
    {
     "data": {
      "text/plain": [
       "int"
      ]
     },
     "execution_count": 15,
     "metadata": {},
     "output_type": "execute_result"
    }
   ],
   "source": [
    "n=input(\"enter a number \")\n",
    "r=n[::-1]\n",
    "int(r)\n",
    "r=int(r)\n",
    "type(r)"
   ]
  },
  {
   "cell_type": "markdown",
   "metadata": {},
   "source": [
    "### To print given number is palindrome or not"
   ]
  },
  {
   "cell_type": "code",
   "execution_count": 18,
   "metadata": {},
   "outputs": [
    {
     "name": "stdout",
     "output_type": "stream",
     "text": [
      "enter a number 135\n",
      "531\n",
      "not palindrome\n"
     ]
    }
   ],
   "source": [
    "n=input(\"enter a number \")\n",
    "r=int(n[::-1])\n",
    "s=r\n",
    "print(s)\n",
    "if s==n:\n",
    "    print(\"palindrome\")\n",
    "else:\n",
    "    print(\"not palindrome\")\n",
    "    "
   ]
  },
  {
   "cell_type": "markdown",
   "metadata": {},
   "source": [
    "### To print the perfect number"
   ]
  },
  {
   "cell_type": "code",
   "execution_count": 37,
   "metadata": {},
   "outputs": [
    {
     "name": "stdout",
     "output_type": "stream",
     "text": [
      "enter a num 26\n",
      "not perfect num\n"
     ]
    }
   ],
   "source": [
    "a=int(input(\"enter a num \"))\n",
    "s=0\n",
    "for i in range(1,a):\n",
    "    if(a % i == 0):\n",
    "        s=s+i\n",
    "if(s==a):\n",
    "    print(\"perfect num\")\n",
    "else:\n",
    "    print(\"not perfect num\")\n",
    "        \n",
    "    "
   ]
  },
  {
   "cell_type": "markdown",
   "metadata": {},
   "source": [
    "### To print the perfect number in given range-fun"
   ]
  },
  {
   "cell_type": "code",
   "execution_count": 108,
   "metadata": {},
   "outputs": [
    {
     "name": "stdout",
     "output_type": "stream",
     "text": [
      "enter a lb 1\n",
      "enter a ub 100\n",
      "6\n",
      "28\n"
     ]
    }
   ],
   "source": [
    "a=int(input(\"enter a lb \"))\n",
    "b=int(input(\"enter a ub \"))\n",
    "s=0\n",
    "def perfect_num(n,s):\n",
    "    for i in range(1,n):\n",
    "        if(n%i== 0):\n",
    "            s=s+i\n",
    "    if(s==n): \n",
    "        print(n)\n",
    "for j in range(a,b+1):\n",
    "    perfect_num(j,s)"
   ]
  },
  {
   "cell_type": "markdown",
   "metadata": {},
   "source": [
    "### To print special number"
   ]
  },
  {
   "cell_type": "code",
   "execution_count": 58,
   "metadata": {},
   "outputs": [
    {
     "name": "stdout",
     "output_type": "stream",
     "text": [
      "enter a num 89\n",
      "special\n"
     ]
    }
   ],
   "source": [
    "n=int(input(\"enter a num \"))\n",
    "sum=0\n",
    "pro=1\n",
    "if i<10:\n",
    "    first=n//10\n",
    "    last=n%10\n",
    "    sum=first+last\n",
    "    pro=(first*last)\n",
    "    if(sum+pro==n):\n",
    "        print(\"special\")\n",
    "    else:\n",
    "        print(\"not special\")\n",
    "else:\n",
    "    print(\"not valid\")"
   ]
  },
  {
   "cell_type": "markdown",
   "metadata": {},
   "source": [
    "### To print prime number in given range"
   ]
  },
  {
   "cell_type": "code",
   "execution_count": 111,
   "metadata": {},
   "outputs": [
    {
     "name": "stdout",
     "output_type": "stream",
     "text": [
      "enter a lb 10\n",
      "enter a ub 15\n",
      "11\n",
      "13\n"
     ]
    }
   ],
   "source": [
    "a=int(input(\"enter a lb \"))\n",
    "b=int(input(\"enter a ub \"))\n",
    "f=0\n",
    "def prime_number(n,f):\n",
    "    for i in range(1,n+1):\n",
    "        if(n%i==0):\n",
    "            f=f+1\n",
    "    if(f==2):\n",
    "        print(n)\n",
    "for j in range(a,b+1):\n",
    "    prime_number(j,f)\n"
   ]
  },
  {
   "cell_type": "code",
   "execution_count": null,
   "metadata": {},
   "outputs": [],
   "source": []
  }
 ],
 "metadata": {
  "kernelspec": {
   "display_name": "Python 3",
   "language": "python",
   "name": "python3"
  },
  "language_info": {
   "codemirror_mode": {
    "name": "ipython",
    "version": 3
   },
   "file_extension": ".py",
   "mimetype": "text/x-python",
   "name": "python",
   "nbconvert_exporter": "python",
   "pygments_lexer": "ipython3",
   "version": "3.7.3"
  }
 },
 "nbformat": 4,
 "nbformat_minor": 2
}
