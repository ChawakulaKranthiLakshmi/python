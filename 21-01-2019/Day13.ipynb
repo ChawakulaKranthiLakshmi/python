{
 "cells": [
  {
   "cell_type": "markdown",
   "metadata": {},
   "source": [
    "# 21-09-2019"
   ]
  },
  {
   "cell_type": "markdown",
   "metadata": {},
   "source": [
    "### To print the no.of words,lines in a file"
   ]
  },
  {
   "cell_type": "code",
   "execution_count": 21,
   "metadata": {},
   "outputs": [
    {
     "name": "stdout",
     "output_type": "stream",
     "text": [
      "5\n",
      "22\n",
      "100\n"
     ]
    }
   ],
   "source": [
    "filepath=\"./files/sample.txt\"\n",
    "num_lines = 0\n",
    "num_words = 0\n",
    "num_chars = 0\n",
    "with open(filepath, 'r') as f:\n",
    "    for line in f:\n",
    "        words = line.split()\n",
    "        num_lines += 1\n",
    "        num_words += len(words)\n",
    "        num_chars += len(line)\n",
    "    print(num_lines)\n",
    "    print(num_words)\n",
    "    print(num_chars)"
   ]
  },
  {
   "cell_type": "markdown",
   "metadata": {},
   "source": [
    "### To Calculate the time of work "
   ]
  },
  {
   "cell_type": "code",
   "execution_count": 39,
   "metadata": {},
   "outputs": [
    {
     "name": "stdout",
     "output_type": "stream",
     "text": [
      "no.of testcases: 2\n",
      "enter 1 45 3 15\n",
      "1 30\n",
      "enter 12 2 24 2\n",
      "12 0\n"
     ]
    }
   ],
   "source": [
    "t=int(input(\"no.of testcases: \"))\n",
    "for i in range(t):\n",
    "    n=input(\"enter \").split()\n",
    "    sh=int(n[0])\n",
    "    sm=int(n[1])\n",
    "    eh=int(n[2])\n",
    "    em=int(n[3])\n",
    "    if((eh and sh<=24)and(em and sm<=60)):\n",
    "        if sh==eh:\n",
    "            a=eh-sh\n",
    "            b=abs(em-sm)\n",
    "            print(a,b)\n",
    "        elif(sm==em):\n",
    "            a=eh-sh\n",
    "            b=abs(em-sm)\n",
    "            print(a,b)\n",
    "        else:\n",
    "            a=(eh-1)-sh\n",
    "            b=abs(em-sm)\n",
    "            print(a,b)\n",
    "    else:\n",
    "        print(\"inavalid\")\n",
    "            \n"
   ]
  },
  {
   "cell_type": "code",
   "execution_count": 40,
   "metadata": {},
   "outputs": [
    {
     "name": "stdout",
     "output_type": "stream",
     "text": [
      "no.of testcases: 1\n",
      "enter 1 23 3 45\n",
      "2 22\n"
     ]
    }
   ],
   "source": [
    "t=int(input(\"no.of testcases: \"))\n",
    "for i in range(t):\n",
    "    n=input(\"enter \").split()\n",
    "    sh=int(n[0])\n",
    "    sm=int(n[1])\n",
    "    eh=int(n[2])\n",
    "    em=int(n[3])\n",
    "    h=0\n",
    "    fm=abs(sm-60)+em\n",
    "    if fm>=60:\n",
    "        fm=abs(fm-60)\n",
    "        h=h+1\n",
    "    fh=(abs(sh-eh)-1)+h\n",
    "    print(fh,fm)"
   ]
  },
  {
   "cell_type": "markdown",
   "metadata": {},
   "source": [
    "### To open  file and  read file"
   ]
  },
  {
   "cell_type": "code",
   "execution_count": 30,
   "metadata": {
    "scrolled": true
   },
   "outputs": [
    {
     "name": "stdout",
     "output_type": "stream",
     "text": [
      "this is my first line \n",
      "this is my second line \n",
      "this is my third line \n",
      "i love india\n",
      "i love my family\n",
      "\n",
      "\n"
     ]
    }
   ],
   "source": [
    "filepath=\"./files/sample.txt\"\n",
    "f=open(filepath,'r')\n",
    "lines=f.read()\n",
    "print(lines)\n",
    "line=f.readline()\n",
    "print(line)"
   ]
  },
  {
   "cell_type": "code",
   "execution_count": 34,
   "metadata": {},
   "outputs": [
    {
     "data": {
      "text/plain": [
       "7"
      ]
     },
     "execution_count": 34,
     "metadata": {},
     "output_type": "execute_result"
    }
   ],
   "source": [
    "filepath=\"./files/sample1.txt\"\n",
    "f=open(filepath,'w') \n",
    "f.write(\"my name is kranthi \")\n",
    "filepath=\"./files/sample2.txt\"\n",
    "f=open(filepath,'w')\n",
    "f.write(\"lakshmi\")"
   ]
  },
  {
   "cell_type": "code",
   "execution_count": 35,
   "metadata": {},
   "outputs": [],
   "source": [
    "filepath=\"./files/sample1.txt\"\n",
    "with open(filepath,'w')as f: \n",
    "    f.write(\"my name is kranthi \")\n",
    "filepath=\"./files/sample2.txt\"\n",
    "with open(filepath,'w')as f:\n",
    "    f.write(\"lakshmi\")"
   ]
  },
  {
   "cell_type": "code",
   "execution_count": null,
   "metadata": {},
   "outputs": [],
   "source": []
  }
 ],
 "metadata": {
  "kernelspec": {
   "display_name": "Python 3",
   "language": "python",
   "name": "python3"
  },
  "language_info": {
   "codemirror_mode": {
    "name": "ipython",
    "version": 3
   },
   "file_extension": ".py",
   "mimetype": "text/x-python",
   "name": "python",
   "nbconvert_exporter": "python",
   "pygments_lexer": "ipython3",
   "version": "3.7.3"
  }
 },
 "nbformat": 4,
 "nbformat_minor": 2
}
