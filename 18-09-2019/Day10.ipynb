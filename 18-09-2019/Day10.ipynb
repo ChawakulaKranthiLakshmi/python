{
 "cells": [
  {
   "cell_type": "markdown",
   "metadata": {},
   "source": [
    "# 18-09-2019"
   ]
  },
  {
   "cell_type": "markdown",
   "metadata": {},
   "source": [
    "## 7 Segment display"
   ]
  },
  {
   "cell_type": "code",
   "execution_count": 5,
   "metadata": {
    "scrolled": true
   },
   "outputs": [
    {
     "name": "stdout",
     "output_type": "stream",
     "text": [
      "enter no.of test cases required 2\n",
      "enter a number 123\n",
      "2\n",
      "5\n",
      "5\n",
      "12\n",
      "enter a number 426\n",
      "4\n",
      "5\n",
      "6\n",
      "15\n"
     ]
    }
   ],
   "source": [
    "d={'0':6,'1':2,'2':5,'3':5,'4':4,'5':5,'6':6,'7':4,'8':7,'9':7}\n",
    "t=int(input(\"enter no.of test cases required \"))\n",
    "for i in range(t):\n",
    "    s=input(\"enter a number \")\n",
    "    a=0\n",
    "    for j in s:\n",
    "        print(d[j])\n",
    "        a=a+d[j]\n",
    "    print(a)\n",
    "        "
   ]
  },
  {
   "cell_type": "markdown",
   "metadata": {},
   "source": [
    "### To find the location of satelite in a maze"
   ]
  },
  {
   "cell_type": "code",
   "execution_count": 4,
   "metadata": {},
   "outputs": [
    {
     "name": "stdout",
     "output_type": "stream",
     "text": [
      "enter the path ldruru\n",
      "1 1\n"
     ]
    }
   ],
   "source": [
    "t=input(\"enter the path \")\n",
    "x=0\n",
    "y=0\n",
    "for i in t:\n",
    "    if i=='l':\n",
    "        x=x-1\n",
    "    elif i=='r':\n",
    "        x=x+1\n",
    "    elif i=='u':\n",
    "        y=y+1\n",
    "    elif i=='d':\n",
    "        y=y-1\n",
    "print(x,y)"
   ]
  },
  {
   "cell_type": "markdown",
   "metadata": {},
   "source": [
    "### sum of num in even and odd positions"
   ]
  },
  {
   "cell_type": "code",
   "execution_count": 3,
   "metadata": {},
   "outputs": [
    {
     "name": "stdout",
     "output_type": "stream",
     "text": [
      "Even index positions sum  25\n",
      "nOdd index positions sum  17\n",
      "8\n"
     ]
    }
   ],
   "source": [
    "def EvenOddSum(a, n): \n",
    "    even = 0\n",
    "    odd = 0\n",
    "    diff=0\n",
    "    for i in range(n): \n",
    "        if i % 2 == 0: \n",
    "            even += a[i] \n",
    "        else: \n",
    "            odd += a[i] \n",
    "    print (\"Even index positions sum \", even )\n",
    "    print (\"nOdd index positions sum \", odd )\n",
    "    diff=abs(even-odd)\n",
    "    print(diff)\n",
    "arr = [3,4,5,6,8,7,9]\n",
    "n = len(arr) \n",
    "EvenOddSum(arr, n) "
   ]
  },
  {
   "cell_type": "code",
   "execution_count": null,
   "metadata": {},
   "outputs": [],
   "source": []
  },
  {
   "cell_type": "code",
   "execution_count": null,
   "metadata": {},
   "outputs": [],
   "source": []
  }
 ],
 "metadata": {
  "kernelspec": {
   "display_name": "Python 3",
   "language": "python",
   "name": "python3"
  },
  "language_info": {
   "codemirror_mode": {
    "name": "ipython",
    "version": 3
   },
   "file_extension": ".py",
   "mimetype": "text/x-python",
   "name": "python",
   "nbconvert_exporter": "python",
   "pygments_lexer": "ipython3",
   "version": "3.7.3"
  }
 },
 "nbformat": 4,
 "nbformat_minor": 2
}
