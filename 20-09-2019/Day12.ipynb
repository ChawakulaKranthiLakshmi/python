{
 "cells": [
  {
   "cell_type": "markdown",
   "metadata": {},
   "source": [
    "# 20-09-2019"
   ]
  },
  {
   "cell_type": "markdown",
   "metadata": {},
   "source": [
    "## To print no.of matchsticks required in terms of 1's"
   ]
  },
  {
   "cell_type": "code",
   "execution_count": 7,
   "metadata": {},
   "outputs": [
    {
     "name": "stdout",
     "output_type": "stream",
     "text": [
      "enter no.of test cases required 2\n",
      "enter a number 123\n",
      "12\n",
      "111111111111\n",
      "enter a number 12\n",
      "7\n",
      "7 111111\n"
     ]
    }
   ],
   "source": [
    "d={'0':6,'1':2,'2':5,'3':5,'4':4,'5':5,'6':6,'7':4,'8':7,'9':7}\n",
    "t=int(input(\"enter no.of test cases required \"))\n",
    "for i in range(t):\n",
    "    s=input(\"enter a number \")\n",
    "    a=0\n",
    "    for j in s:\n",
    "        a=a+d[j]\n",
    "    print(a)\n",
    "    if a%2==0:\n",
    "        print(\"1\"*a)\n",
    "    else:\n",
    "        print(\"7\",(\"1\"*(a-1)))"
   ]
  },
  {
   "cell_type": "code",
   "execution_count": null,
   "metadata": {},
   "outputs": [],
   "source": []
  }
 ],
 "metadata": {
  "kernelspec": {
   "display_name": "Python 3",
   "language": "python",
   "name": "python3"
  },
  "language_info": {
   "codemirror_mode": {
    "name": "ipython",
    "version": 3
   },
   "file_extension": ".py",
   "mimetype": "text/x-python",
   "name": "python",
   "nbconvert_exporter": "python",
   "pygments_lexer": "ipython3",
   "version": "3.7.3"
  }
 },
 "nbformat": 4,
 "nbformat_minor": 2
}
