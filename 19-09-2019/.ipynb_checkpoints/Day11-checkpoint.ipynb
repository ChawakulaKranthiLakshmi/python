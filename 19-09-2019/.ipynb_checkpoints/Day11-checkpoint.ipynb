{
 "cells": [
  {
   "cell_type": "markdown",
   "metadata": {},
   "source": [
    "# 19-09-2019"
   ]
  },
  {
   "cell_type": "markdown",
   "metadata": {},
   "source": [
    "## File concept"
   ]
  },
  {
   "cell_type": "markdown",
   "metadata": {},
   "source": [
    "### To print input in a file"
   ]
  },
  {
   "cell_type": "code",
   "execution_count": 2,
   "metadata": {},
   "outputs": [],
   "source": [
    "filepath=\"./files/sample.txt\"\n",
    "with open(filepath,'w') as f:\n",
    "    f.write(\"this the first line\")"
   ]
  },
  {
   "cell_type": "markdown",
   "metadata": {},
   "source": [
    "### To print multiple lines in a file"
   ]
  },
  {
   "cell_type": "code",
   "execution_count": 23,
   "metadata": {},
   "outputs": [],
   "source": [
    "filepath=\"./files/multi.txt\"\n",
    "with open(filepath,'w') as f:\n",
    "    f.write(\"this is the first line\\n\")\n",
    "    f.write(\"this is the second line\\n\")\n",
    "    f.write(\"good morning\\n\")"
   ]
  },
  {
   "cell_type": "markdown",
   "metadata": {},
   "source": [
    "### To read the input from a file"
   ]
  },
  {
   "cell_type": "code",
   "execution_count": 17,
   "metadata": {},
   "outputs": [
    {
     "name": "stdout",
     "output_type": "stream",
     "text": [
      "['this is the first line\\n', 'this is the second line\\n', 'good morning']\n"
     ]
    }
   ],
   "source": [
    "filepath=\"./files/multi.txt\"\n",
    "with open(filepath,'r') as f:\n",
    "    print(f.readlines())"
   ]
  },
  {
   "cell_type": "code",
   "execution_count": 18,
   "metadata": {},
   "outputs": [
    {
     "name": "stdout",
     "output_type": "stream",
     "text": [
      "this is the first line\n",
      "this is the second line\n",
      "good morning\n"
     ]
    }
   ],
   "source": [
    "filepath=\"./files/multi.txt\"\n",
    "with open(filepath,'r') as f:\n",
    "    data=f.read()\n",
    "    print(data)"
   ]
  },
  {
   "cell_type": "markdown",
   "metadata": {},
   "source": [
    "### To add the data to a existing file"
   ]
  },
  {
   "cell_type": "code",
   "execution_count": 24,
   "metadata": {},
   "outputs": [],
   "source": [
    "filepath=\"./files/multi.txt\"\n",
    "with open(filepath,'a+') as f:\n",
    "    f.write(\"i love india\")"
   ]
  },
  {
   "cell_type": "markdown",
   "metadata": {},
   "source": [
    "### To print a particular line from the file"
   ]
  },
  {
   "cell_type": "code",
   "execution_count": 25,
   "metadata": {},
   "outputs": [
    {
     "name": "stdout",
     "output_type": "stream",
     "text": [
      "i love india\n"
     ]
    }
   ],
   "source": [
    "filepath=\"./files/multi.txt\"\n",
    "with open(filepath,'r') as f:\n",
    "    data=f.readlines()\n",
    "    l=list(data)\n",
    "    print(l[3])"
   ]
  },
  {
   "cell_type": "markdown",
   "metadata": {},
   "source": [
    "### To eliminate duplicate elements in a list"
   ]
  },
  {
   "cell_type": "code",
   "execution_count": 26,
   "metadata": {},
   "outputs": [
    {
     "name": "stdout",
     "output_type": "stream",
     "text": [
      "['k', 'v', 's', 'n', 'm', 'r']\n"
     ]
    }
   ],
   "source": [
    "l=[\"k\",\"v\",\"s\",\"n\",\"k\",\"m\",\"s\",\"r\",\"k\"]\n",
    "t=[]\n",
    "for i in l:\n",
    "    if i not in t:\n",
    "        t.append(i)\n",
    "print(t)"
   ]
  },
  {
   "cell_type": "markdown",
   "metadata": {},
   "source": [
    "### To count the numbers that are divisible by a given num in a range"
   ]
  },
  {
   "cell_type": "code",
   "execution_count": 27,
   "metadata": {},
   "outputs": [
    {
     "name": "stdout",
     "output_type": "stream",
     "text": [
      "enter 1 10 2\n",
      "5\n"
     ]
    }
   ],
   "source": [
    "n=input(\"enter \")\n",
    "n=n.split()\n",
    "lb=int(n[0])\n",
    "ub=int(n[1])\n",
    "d=int(n[2])\n",
    "c=0\n",
    "for i in range(lb,ub+1):\n",
    "    if i%d==0:\n",
    "        c=c+1\n",
    "print(c)"
   ]
  },
  {
   "cell_type": "code",
   "execution_count": null,
   "metadata": {},
   "outputs": [],
   "source": []
  }
 ],
 "metadata": {
  "kernelspec": {
   "display_name": "Python 3",
   "language": "python",
   "name": "python3"
  },
  "language_info": {
   "codemirror_mode": {
    "name": "ipython",
    "version": 3
   },
   "file_extension": ".py",
   "mimetype": "text/x-python",
   "name": "python",
   "nbconvert_exporter": "python",
   "pygments_lexer": "ipython3",
   "version": "3.7.3"
  }
 },
 "nbformat": 4,
 "nbformat_minor": 2
}
